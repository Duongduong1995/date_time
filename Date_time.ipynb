{
 "cells": [
  {
   "cell_type": "code",
   "execution_count": 113,
   "id": "9bb2ef2d",
   "metadata": {},
   "outputs": [],
   "source": [
    "import pandas as pd\n",
    "import numpy as np\n",
    "import datetime as dt"
   ]
  },
  {
   "cell_type": "code",
   "execution_count": 101,
   "id": "6faf31d1",
   "metadata": {},
   "outputs": [
    {
     "name": "stdout",
     "output_type": "stream",
     "text": [
      "<class 'pandas.core.frame.DataFrame'>\n",
      "RangeIndex: 4 entries, 0 to 3\n",
      "Data columns (total 2 columns):\n",
      " #   Column  Non-Null Count  Dtype \n",
      "---  ------  --------------  ----- \n",
      " 0   date    4 non-null      object\n",
      " 1   value   4 non-null      int64 \n",
      "dtypes: int64(1), object(1)\n",
      "memory usage: 192.0+ bytes\n"
     ]
    }
   ],
   "source": [
    "df_data = pd.DataFrame({'date':['3/10/2002', '10/2/2006', '10/10/2011', '21/3/2022'],\n",
    "                        'value': [100, 232, 901, 189]})\n",
    "df_data.info()"
   ]
  },
  {
   "cell_type": "code",
   "execution_count": 102,
   "id": "35fa3c31",
   "metadata": {},
   "outputs": [
    {
     "data": {
      "text/html": [
       "<div>\n",
       "<style scoped>\n",
       "    .dataframe tbody tr th:only-of-type {\n",
       "        vertical-align: middle;\n",
       "    }\n",
       "\n",
       "    .dataframe tbody tr th {\n",
       "        vertical-align: top;\n",
       "    }\n",
       "\n",
       "    .dataframe thead th {\n",
       "        text-align: right;\n",
       "    }\n",
       "</style>\n",
       "<table border=\"1\" class=\"dataframe\">\n",
       "  <thead>\n",
       "    <tr style=\"text-align: right;\">\n",
       "      <th></th>\n",
       "      <th>date</th>\n",
       "      <th>value</th>\n",
       "    </tr>\n",
       "  </thead>\n",
       "  <tbody>\n",
       "    <tr>\n",
       "      <th>0</th>\n",
       "      <td>3/10/2002</td>\n",
       "      <td>100</td>\n",
       "    </tr>\n",
       "    <tr>\n",
       "      <th>1</th>\n",
       "      <td>10/2/2006</td>\n",
       "      <td>232</td>\n",
       "    </tr>\n",
       "    <tr>\n",
       "      <th>2</th>\n",
       "      <td>10/10/2011</td>\n",
       "      <td>901</td>\n",
       "    </tr>\n",
       "    <tr>\n",
       "      <th>3</th>\n",
       "      <td>21/3/2022</td>\n",
       "      <td>189</td>\n",
       "    </tr>\n",
       "  </tbody>\n",
       "</table>\n",
       "</div>"
      ],
      "text/plain": [
       "         date  value\n",
       "0   3/10/2002    100\n",
       "1   10/2/2006    232\n",
       "2  10/10/2011    901\n",
       "3   21/3/2022    189"
      ]
     },
     "execution_count": 102,
     "metadata": {},
     "output_type": "execute_result"
    }
   ],
   "source": [
    "df_data.head()"
   ]
  },
  {
   "cell_type": "code",
   "execution_count": 103,
   "id": "549d01de",
   "metadata": {},
   "outputs": [
    {
     "name": "stdout",
     "output_type": "stream",
     "text": [
      "<class 'pandas.core.frame.DataFrame'>\n",
      "RangeIndex: 4 entries, 0 to 3\n",
      "Data columns (total 2 columns):\n",
      " #   Column  Non-Null Count  Dtype         \n",
      "---  ------  --------------  -----         \n",
      " 0   date    4 non-null      datetime64[ns]\n",
      " 1   value   4 non-null      int64         \n",
      "dtypes: datetime64[ns](1), int64(1)\n",
      "memory usage: 192.0 bytes\n"
     ]
    }
   ],
   "source": [
    "df_data['date'] = pd.to_datetime(df_data['date'], dayfirst=True)\n",
    "df_data.info()"
   ]
  },
  {
   "cell_type": "code",
   "execution_count": 104,
   "id": "e1ce77c0",
   "metadata": {},
   "outputs": [
    {
     "data": {
      "text/html": [
       "<div>\n",
       "<style scoped>\n",
       "    .dataframe tbody tr th:only-of-type {\n",
       "        vertical-align: middle;\n",
       "    }\n",
       "\n",
       "    .dataframe tbody tr th {\n",
       "        vertical-align: top;\n",
       "    }\n",
       "\n",
       "    .dataframe thead th {\n",
       "        text-align: right;\n",
       "    }\n",
       "</style>\n",
       "<table border=\"1\" class=\"dataframe\">\n",
       "  <thead>\n",
       "    <tr style=\"text-align: right;\">\n",
       "      <th></th>\n",
       "      <th>date</th>\n",
       "      <th>value</th>\n",
       "    </tr>\n",
       "  </thead>\n",
       "  <tbody>\n",
       "    <tr>\n",
       "      <th>0</th>\n",
       "      <td>2002-10-03</td>\n",
       "      <td>100</td>\n",
       "    </tr>\n",
       "    <tr>\n",
       "      <th>1</th>\n",
       "      <td>2006-02-10</td>\n",
       "      <td>232</td>\n",
       "    </tr>\n",
       "    <tr>\n",
       "      <th>2</th>\n",
       "      <td>2011-10-10</td>\n",
       "      <td>901</td>\n",
       "    </tr>\n",
       "    <tr>\n",
       "      <th>3</th>\n",
       "      <td>2022-03-21</td>\n",
       "      <td>189</td>\n",
       "    </tr>\n",
       "  </tbody>\n",
       "</table>\n",
       "</div>"
      ],
      "text/plain": [
       "        date  value\n",
       "0 2002-10-03    100\n",
       "1 2006-02-10    232\n",
       "2 2011-10-10    901\n",
       "3 2022-03-21    189"
      ]
     },
     "execution_count": 104,
     "metadata": {},
     "output_type": "execute_result"
    }
   ],
   "source": [
    "df_data.head()"
   ]
  },
  {
   "cell_type": "code",
   "execution_count": 105,
   "id": "cfbb8a7c",
   "metadata": {},
   "outputs": [
    {
     "name": "stdout",
     "output_type": "stream",
     "text": [
      "<class 'pandas.core.frame.DataFrame'>\n",
      "RangeIndex: 4 entries, 0 to 3\n",
      "Data columns (total 2 columns):\n",
      " #   Column  Non-Null Count  Dtype \n",
      "---  ------  --------------  ----- \n",
      " 0   date    4 non-null      object\n",
      " 1   value   4 non-null      int64 \n",
      "dtypes: int64(1), object(1)\n",
      "memory usage: 192.0+ bytes\n"
     ]
    }
   ],
   "source": [
    "df_data = pd.DataFrame({'date':['3-10-2002 20:34:01', '10-2-2006 23:09:08', '10-10-2011 12:00:13', '21-3-2022 17:36:57'],\n",
    "                        'value': [100, 232, 901, 189]})\n",
    "df_data.info()"
   ]
  },
  {
   "cell_type": "code",
   "execution_count": 106,
   "id": "028f448c",
   "metadata": {},
   "outputs": [
    {
     "data": {
      "text/html": [
       "<div>\n",
       "<style scoped>\n",
       "    .dataframe tbody tr th:only-of-type {\n",
       "        vertical-align: middle;\n",
       "    }\n",
       "\n",
       "    .dataframe tbody tr th {\n",
       "        vertical-align: top;\n",
       "    }\n",
       "\n",
       "    .dataframe thead th {\n",
       "        text-align: right;\n",
       "    }\n",
       "</style>\n",
       "<table border=\"1\" class=\"dataframe\">\n",
       "  <thead>\n",
       "    <tr style=\"text-align: right;\">\n",
       "      <th></th>\n",
       "      <th>date</th>\n",
       "      <th>value</th>\n",
       "    </tr>\n",
       "  </thead>\n",
       "  <tbody>\n",
       "    <tr>\n",
       "      <th>0</th>\n",
       "      <td>10-03-2002 20:34:01</td>\n",
       "      <td>100</td>\n",
       "    </tr>\n",
       "    <tr>\n",
       "      <th>1</th>\n",
       "      <td>02-10-2006 23:09:08</td>\n",
       "      <td>232</td>\n",
       "    </tr>\n",
       "    <tr>\n",
       "      <th>2</th>\n",
       "      <td>10-10-2011 12:00:13</td>\n",
       "      <td>901</td>\n",
       "    </tr>\n",
       "    <tr>\n",
       "      <th>3</th>\n",
       "      <td>21-03-2022 17:36:57</td>\n",
       "      <td>189</td>\n",
       "    </tr>\n",
       "  </tbody>\n",
       "</table>\n",
       "</div>"
      ],
      "text/plain": [
       "                  date  value\n",
       "0  10-03-2002 20:34:01    100\n",
       "1  02-10-2006 23:09:08    232\n",
       "2  10-10-2011 12:00:13    901\n",
       "3  21-03-2022 17:36:57    189"
      ]
     },
     "execution_count": 106,
     "metadata": {},
     "output_type": "execute_result"
    }
   ],
   "source": [
    "df_data['date'] = pd.to_datetime(df_data['date']).dt.strftime('%d-%m-%Y %H:%M:%S')\n",
    "df_data.head()"
   ]
  },
  {
   "cell_type": "code",
   "execution_count": 107,
   "id": "2795f3ad",
   "metadata": {},
   "outputs": [
    {
     "data": {
      "text/html": [
       "<div>\n",
       "<style scoped>\n",
       "    .dataframe tbody tr th:only-of-type {\n",
       "        vertical-align: middle;\n",
       "    }\n",
       "\n",
       "    .dataframe tbody tr th {\n",
       "        vertical-align: top;\n",
       "    }\n",
       "\n",
       "    .dataframe thead th {\n",
       "        text-align: right;\n",
       "    }\n",
       "</style>\n",
       "<table border=\"1\" class=\"dataframe\">\n",
       "  <thead>\n",
       "    <tr style=\"text-align: right;\">\n",
       "      <th></th>\n",
       "      <th>year</th>\n",
       "      <th>month</th>\n",
       "      <th>day</th>\n",
       "    </tr>\n",
       "  </thead>\n",
       "  <tbody>\n",
       "    <tr>\n",
       "      <th>0</th>\n",
       "      <td>2022</td>\n",
       "      <td>2</td>\n",
       "      <td>12</td>\n",
       "    </tr>\n",
       "    <tr>\n",
       "      <th>1</th>\n",
       "      <td>2019</td>\n",
       "      <td>5</td>\n",
       "      <td>17</td>\n",
       "    </tr>\n",
       "  </tbody>\n",
       "</table>\n",
       "</div>"
      ],
      "text/plain": [
       "   year  month  day\n",
       "0  2022      2   12\n",
       "1  2019      5   17"
      ]
     },
     "execution_count": 107,
     "metadata": {},
     "output_type": "execute_result"
    }
   ],
   "source": [
    "df_data = pd.DataFrame({'year': [2022, 2019],\n",
    "                        'month': [2, 5],\n",
    "                        'day': [12, 17]})\n",
    "df_data.head()"
   ]
  },
  {
   "cell_type": "code",
   "execution_count": 108,
   "id": "24f58bf8",
   "metadata": {},
   "outputs": [
    {
     "data": {
      "text/html": [
       "<div>\n",
       "<style scoped>\n",
       "    .dataframe tbody tr th:only-of-type {\n",
       "        vertical-align: middle;\n",
       "    }\n",
       "\n",
       "    .dataframe tbody tr th {\n",
       "        vertical-align: top;\n",
       "    }\n",
       "\n",
       "    .dataframe thead th {\n",
       "        text-align: right;\n",
       "    }\n",
       "</style>\n",
       "<table border=\"1\" class=\"dataframe\">\n",
       "  <thead>\n",
       "    <tr style=\"text-align: right;\">\n",
       "      <th></th>\n",
       "      <th>year</th>\n",
       "      <th>month</th>\n",
       "      <th>day</th>\n",
       "      <th>date</th>\n",
       "    </tr>\n",
       "  </thead>\n",
       "  <tbody>\n",
       "    <tr>\n",
       "      <th>0</th>\n",
       "      <td>2022</td>\n",
       "      <td>2</td>\n",
       "      <td>12</td>\n",
       "      <td>2022-02-12</td>\n",
       "    </tr>\n",
       "    <tr>\n",
       "      <th>1</th>\n",
       "      <td>2019</td>\n",
       "      <td>5</td>\n",
       "      <td>17</td>\n",
       "      <td>2019-05-17</td>\n",
       "    </tr>\n",
       "  </tbody>\n",
       "</table>\n",
       "</div>"
      ],
      "text/plain": [
       "   year  month  day       date\n",
       "0  2022      2   12 2022-02-12\n",
       "1  2019      5   17 2019-05-17"
      ]
     },
     "execution_count": 108,
     "metadata": {},
     "output_type": "execute_result"
    }
   ],
   "source": [
    "df_data['date'] = pd.to_datetime(df_data)\n",
    "df_data.head()"
   ]
  },
  {
   "cell_type": "code",
   "execution_count": 114,
   "id": "a045cbd5",
   "metadata": {},
   "outputs": [
    {
     "data": {
      "text/html": [
       "<div>\n",
       "<style scoped>\n",
       "    .dataframe tbody tr th:only-of-type {\n",
       "        vertical-align: middle;\n",
       "    }\n",
       "\n",
       "    .dataframe tbody tr th {\n",
       "        vertical-align: top;\n",
       "    }\n",
       "\n",
       "    .dataframe thead th {\n",
       "        text-align: right;\n",
       "    }\n",
       "</style>\n",
       "<table border=\"1\" class=\"dataframe\">\n",
       "  <thead>\n",
       "    <tr style=\"text-align: right;\">\n",
       "      <th></th>\n",
       "      <th>name</th>\n",
       "      <th>DOB</th>\n",
       "    </tr>\n",
       "  </thead>\n",
       "  <tbody>\n",
       "    <tr>\n",
       "      <th>0</th>\n",
       "      <td>Hoang</td>\n",
       "      <td>12-11-1979</td>\n",
       "    </tr>\n",
       "    <tr>\n",
       "      <th>1</th>\n",
       "      <td>Su</td>\n",
       "      <td>21-3-1989</td>\n",
       "    </tr>\n",
       "    <tr>\n",
       "      <th>2</th>\n",
       "      <td>Duong</td>\n",
       "      <td>23-01-1996</td>\n",
       "    </tr>\n",
       "    <tr>\n",
       "      <th>3</th>\n",
       "      <td>Phuong</td>\n",
       "      <td>14-05-1995</td>\n",
       "    </tr>\n",
       "  </tbody>\n",
       "</table>\n",
       "</div>"
      ],
      "text/plain": [
       "     name         DOB\n",
       "0   Hoang  12-11-1979\n",
       "1      Su   21-3-1989\n",
       "2   Duong  23-01-1996\n",
       "3  Phuong  14-05-1995"
      ]
     },
     "execution_count": 114,
     "metadata": {},
     "output_type": "execute_result"
    }
   ],
   "source": [
    "df_data = pd.DataFrame({'name': ['Hoang', 'Su', 'Duong', 'Phuong'],\n",
    "                       'DOB': ['12-11-1979', '21-3-1989', '23-01-1996', '14-05-1995']})\n",
    "df_data.head()"
   ]
  },
  {
   "cell_type": "markdown",
   "id": "702d4331",
   "metadata": {},
   "source": [
    "Covert to datetime"
   ]
  },
  {
   "cell_type": "code",
   "execution_count": 119,
   "id": "dbb9f8e8",
   "metadata": {},
   "outputs": [
    {
     "data": {
      "text/html": [
       "<div>\n",
       "<style scoped>\n",
       "    .dataframe tbody tr th:only-of-type {\n",
       "        vertical-align: middle;\n",
       "    }\n",
       "\n",
       "    .dataframe tbody tr th {\n",
       "        vertical-align: top;\n",
       "    }\n",
       "\n",
       "    .dataframe thead th {\n",
       "        text-align: right;\n",
       "    }\n",
       "</style>\n",
       "<table border=\"1\" class=\"dataframe\">\n",
       "  <thead>\n",
       "    <tr style=\"text-align: right;\">\n",
       "      <th></th>\n",
       "      <th>name</th>\n",
       "      <th>DOB</th>\n",
       "    </tr>\n",
       "  </thead>\n",
       "  <tbody>\n",
       "    <tr>\n",
       "      <th>0</th>\n",
       "      <td>Hoang</td>\n",
       "      <td>1979-12-11 00:00:00</td>\n",
       "    </tr>\n",
       "    <tr>\n",
       "      <th>1</th>\n",
       "      <td>Su</td>\n",
       "      <td>1989-03-21 00:00:00</td>\n",
       "    </tr>\n",
       "    <tr>\n",
       "      <th>2</th>\n",
       "      <td>Duong</td>\n",
       "      <td>1996-01-23 00:00:00</td>\n",
       "    </tr>\n",
       "    <tr>\n",
       "      <th>3</th>\n",
       "      <td>Phuong</td>\n",
       "      <td>1995-05-14 00:00:00</td>\n",
       "    </tr>\n",
       "  </tbody>\n",
       "</table>\n",
       "</div>"
      ],
      "text/plain": [
       "     name                  DOB\n",
       "0   Hoang  1979-12-11 00:00:00\n",
       "1      Su  1989-03-21 00:00:00\n",
       "2   Duong  1996-01-23 00:00:00\n",
       "3  Phuong  1995-05-14 00:00:00"
      ]
     },
     "execution_count": 119,
     "metadata": {},
     "output_type": "execute_result"
    }
   ],
   "source": [
    "df_data['DOB'] = pd.to_datetime(df_data['DOB']).dt.strftime('%Y-%m-%d %H:%M:%S')\n",
    "df_data.head()"
   ]
  },
  {
   "cell_type": "markdown",
   "id": "f4c915fc",
   "metadata": {},
   "source": [
    "Get year, month, day, week, day of week"
   ]
  },
  {
   "cell_type": "code",
   "execution_count": 131,
   "id": "d01ef76e",
   "metadata": {},
   "outputs": [
    {
     "data": {
      "text/html": [
       "<div>\n",
       "<style scoped>\n",
       "    .dataframe tbody tr th:only-of-type {\n",
       "        vertical-align: middle;\n",
       "    }\n",
       "\n",
       "    .dataframe tbody tr th {\n",
       "        vertical-align: top;\n",
       "    }\n",
       "\n",
       "    .dataframe thead th {\n",
       "        text-align: right;\n",
       "    }\n",
       "</style>\n",
       "<table border=\"1\" class=\"dataframe\">\n",
       "  <thead>\n",
       "    <tr style=\"text-align: right;\">\n",
       "      <th></th>\n",
       "      <th>name</th>\n",
       "      <th>DOB</th>\n",
       "      <th>Year</th>\n",
       "      <th>Month</th>\n",
       "      <th>Day</th>\n",
       "      <th>Week</th>\n",
       "      <th>DOW</th>\n",
       "      <th>now_year</th>\n",
       "    </tr>\n",
       "  </thead>\n",
       "  <tbody>\n",
       "    <tr>\n",
       "      <th>0</th>\n",
       "      <td>Hoang</td>\n",
       "      <td>1979-12-11 00:00:00</td>\n",
       "      <td>1979</td>\n",
       "      <td>12</td>\n",
       "      <td>11</td>\n",
       "      <td>49</td>\n",
       "      <td>Tuesday</td>\n",
       "      <td>2022</td>\n",
       "    </tr>\n",
       "    <tr>\n",
       "      <th>1</th>\n",
       "      <td>Su</td>\n",
       "      <td>1989-03-21 00:00:00</td>\n",
       "      <td>1989</td>\n",
       "      <td>03</td>\n",
       "      <td>21</td>\n",
       "      <td>12</td>\n",
       "      <td>Tuesday</td>\n",
       "      <td>2022</td>\n",
       "    </tr>\n",
       "    <tr>\n",
       "      <th>2</th>\n",
       "      <td>Duong</td>\n",
       "      <td>1996-01-23 00:00:00</td>\n",
       "      <td>1996</td>\n",
       "      <td>01</td>\n",
       "      <td>23</td>\n",
       "      <td>03</td>\n",
       "      <td>Tuesday</td>\n",
       "      <td>2022</td>\n",
       "    </tr>\n",
       "    <tr>\n",
       "      <th>3</th>\n",
       "      <td>Phuong</td>\n",
       "      <td>1995-05-14 00:00:00</td>\n",
       "      <td>1995</td>\n",
       "      <td>05</td>\n",
       "      <td>14</td>\n",
       "      <td>20</td>\n",
       "      <td>Sunday</td>\n",
       "      <td>2022</td>\n",
       "    </tr>\n",
       "  </tbody>\n",
       "</table>\n",
       "</div>"
      ],
      "text/plain": [
       "     name                  DOB  Year Month Day Week      DOW  now_year\n",
       "0   Hoang  1979-12-11 00:00:00  1979    12  11   49  Tuesday      2022\n",
       "1      Su  1989-03-21 00:00:00  1989    03  21   12  Tuesday      2022\n",
       "2   Duong  1996-01-23 00:00:00  1996    01  23   03  Tuesday      2022\n",
       "3  Phuong  1995-05-14 00:00:00  1995    05  14   20   Sunday      2022"
      ]
     },
     "execution_count": 131,
     "metadata": {},
     "output_type": "execute_result"
    }
   ],
   "source": [
    "df_data['Year'] = pd.DatetimeIndex(df_data['DOB']).year\n",
    "df_data['Month'] = pd.to_datetime(df_data['DOB']).dt.strftime('%m')\n",
    "df_data['Day'] = pd.to_datetime(df_data['DOB']).dt.strftime('%d')\n",
    "df_data['Week'] = pd.to_datetime(df_data['DOB']).dt.strftime('%U')\n",
    "df_data['DOW'] = pd.to_datetime(df_data['DOB']).dt.strftime('%A')\n",
    "df_data.head()"
   ]
  },
  {
   "cell_type": "markdown",
   "id": "a62ad3ff",
   "metadata": {},
   "source": [
    "Get age from DOB and store in a new column named Age"
   ]
  },
  {
   "cell_type": "code",
   "execution_count": 132,
   "id": "6e310296",
   "metadata": {},
   "outputs": [
    {
     "name": "stderr",
     "output_type": "stream",
     "text": [
      "C:\\Users\\Enoza\\AppData\\Local\\Temp\\ipykernel_2860\\1520258969.py:1: FutureWarning: The pandas.datetime class is deprecated and will be removed from pandas in a future version. Import from datetime module instead.\n",
      "  now = pd.datetime.now()\n",
      "C:\\Users\\Enoza\\AppData\\Local\\Temp\\ipykernel_2860\\1520258969.py:2: FutureWarning: The pandas.datetime class is deprecated and will be removed from pandas in a future version. Import from datetime module instead.\n",
      "  df_data['now_year'] = pd.datetime.now().year\n"
     ]
    },
    {
     "data": {
      "text/html": [
       "<div>\n",
       "<style scoped>\n",
       "    .dataframe tbody tr th:only-of-type {\n",
       "        vertical-align: middle;\n",
       "    }\n",
       "\n",
       "    .dataframe tbody tr th {\n",
       "        vertical-align: top;\n",
       "    }\n",
       "\n",
       "    .dataframe thead th {\n",
       "        text-align: right;\n",
       "    }\n",
       "</style>\n",
       "<table border=\"1\" class=\"dataframe\">\n",
       "  <thead>\n",
       "    <tr style=\"text-align: right;\">\n",
       "      <th></th>\n",
       "      <th>name</th>\n",
       "      <th>DOB</th>\n",
       "      <th>Year</th>\n",
       "      <th>Month</th>\n",
       "      <th>Day</th>\n",
       "      <th>Week</th>\n",
       "      <th>DOW</th>\n",
       "      <th>now_year</th>\n",
       "      <th>Age</th>\n",
       "    </tr>\n",
       "  </thead>\n",
       "  <tbody>\n",
       "    <tr>\n",
       "      <th>0</th>\n",
       "      <td>Hoang</td>\n",
       "      <td>1979-12-11 00:00:00</td>\n",
       "      <td>1979</td>\n",
       "      <td>12</td>\n",
       "      <td>11</td>\n",
       "      <td>49</td>\n",
       "      <td>Tuesday</td>\n",
       "      <td>2022</td>\n",
       "      <td>43</td>\n",
       "    </tr>\n",
       "    <tr>\n",
       "      <th>1</th>\n",
       "      <td>Su</td>\n",
       "      <td>1989-03-21 00:00:00</td>\n",
       "      <td>1989</td>\n",
       "      <td>03</td>\n",
       "      <td>21</td>\n",
       "      <td>12</td>\n",
       "      <td>Tuesday</td>\n",
       "      <td>2022</td>\n",
       "      <td>33</td>\n",
       "    </tr>\n",
       "    <tr>\n",
       "      <th>2</th>\n",
       "      <td>Duong</td>\n",
       "      <td>1996-01-23 00:00:00</td>\n",
       "      <td>1996</td>\n",
       "      <td>01</td>\n",
       "      <td>23</td>\n",
       "      <td>03</td>\n",
       "      <td>Tuesday</td>\n",
       "      <td>2022</td>\n",
       "      <td>26</td>\n",
       "    </tr>\n",
       "    <tr>\n",
       "      <th>3</th>\n",
       "      <td>Phuong</td>\n",
       "      <td>1995-05-14 00:00:00</td>\n",
       "      <td>1995</td>\n",
       "      <td>05</td>\n",
       "      <td>14</td>\n",
       "      <td>20</td>\n",
       "      <td>Sunday</td>\n",
       "      <td>2022</td>\n",
       "      <td>27</td>\n",
       "    </tr>\n",
       "  </tbody>\n",
       "</table>\n",
       "</div>"
      ],
      "text/plain": [
       "     name                  DOB  Year Month Day Week      DOW  now_year  Age\n",
       "0   Hoang  1979-12-11 00:00:00  1979    12  11   49  Tuesday      2022   43\n",
       "1      Su  1989-03-21 00:00:00  1989    03  21   12  Tuesday      2022   33\n",
       "2   Duong  1996-01-23 00:00:00  1996    01  23   03  Tuesday      2022   26\n",
       "3  Phuong  1995-05-14 00:00:00  1995    05  14   20   Sunday      2022   27"
      ]
     },
     "execution_count": 132,
     "metadata": {},
     "output_type": "execute_result"
    }
   ],
   "source": [
    "now = pd.datetime.now()\n",
    "df_data['now_year'] = pd.datetime.now().year\n",
    "df_data['Age'] = df_data['now_year'] - df_data['Year']\n",
    "df_data.head()                    "
   ]
  }
 ],
 "metadata": {
  "kernelspec": {
   "display_name": "Python 3 (ipykernel)",
   "language": "python",
   "name": "python3"
  },
  "language_info": {
   "codemirror_mode": {
    "name": "ipython",
    "version": 3
   },
   "file_extension": ".py",
   "mimetype": "text/x-python",
   "name": "python",
   "nbconvert_exporter": "python",
   "pygments_lexer": "ipython3",
   "version": "3.8.13"
  }
 },
 "nbformat": 4,
 "nbformat_minor": 5
}
